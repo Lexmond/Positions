{
 "cells": [
  {
   "cell_type": "code",
   "execution_count": 18,
   "metadata": {},
   "outputs": [
    {
     "name": "stdout",
     "output_type": "stream",
     "text": [
      "   Unnamed: 0                                            seqName       clade  \\\n",
      "0         682  A/Netherlands/00677/2022|A_/_H1N1|6B.1A.5a.1|O...  6B.1A.5a.1   \n",
      "1        1612  A/Netherlands/11421/2022|A_/_H1N1|6B.1A.5a.1|O...  6B.1A.5a.1   \n",
      "2         718  A/Netherlands/11634/2022|A_/_H1N1|6B.1A.5a.1|O...  6B.1A.5a.1   \n",
      "3        1617  A/Netherlands/00005/2022|A_/_H1N1|6B.1A.5a.1|O...  6B.1A.5a.1   \n",
      "4         719  A/Netherlands/00023/2022|A_/_H1N1|6B.1A.5a.1|O...  6B.1A.5a.1   \n",
      "\n",
      "  Pos 90 Pos 91 Pos 92 Pos 127 Pos 129 Pos 130 Pos 131  ... Pos 226  \\\n",
      "0      C      Y      P       D       D       K       G  ...       R   \n",
      "1      C      Y      P       D       D       K       G  ...       R   \n",
      "2      C      Y      P       D       D       K       G  ...       R   \n",
      "3      C      Y      P       D       D       K       G  ...       R   \n",
      "4      C      Y      P       D       D       K       G  ...       R   \n",
      "\n",
      "                                     motif Pos 10 Pos 23 Pos 87 Pos 147  \\\n",
      "0  CYPDDKGVAAACPGAKFWVKGNHPTAAESLYTKRDQEGR   NNST   NVTV   NGTC     NaN   \n",
      "1  CYPDDKGVTAACPGAKFWVKGKHPTAAESLYTKRDQEGR   NNST   NVTV   NGTC     NaN   \n",
      "2  CYPDDKGVTAACPGAKFWVKGNHPTAAEGLYTKRDQEGR   NNST   NVTV   NGTC     NaN   \n",
      "3  CYPDDKGVTAACPGAKFWVKGNHPTAAESLYTKRDQEGR   NNST   NVTV   NGTC     NaN   \n",
      "4  CYPDDKGVTAACPGAKFWVKGNHPTAAESLYTKRDQEGR   NNST   NVTV   NGTC     NaN   \n",
      "\n",
      "  Pos 162 Pos 239 Pos 276 Pos 287  \n",
      "0    NQTY     NaN    NTTC    NTSL  \n",
      "1    NQTY     NaN    NTTC    NTSL  \n",
      "2    NQTY     NaN    NTTC    NTSL  \n",
      "3    NQTY     NaN    NTTC    NTSL  \n",
      "4    NQTY     NaN    NTTC    NTSL  \n",
      "\n",
      "[5 rows x 51 columns]\n"
     ]
    }
   ],
   "source": [
    "import pandas as pd\n",
    "\n",
    "# H1N1pdm HA data\n",
    "# nextclade_csv = pd.read_csv(\"../../output/nextclade/flu/h1n1pdm/ha/nextclade.csv\", sep=\";\")\n",
    "positions_csv = pd.read_csv(\"../../output/positions/h1n1pdm/ha/positions_clades_h1n1pdm_HA1.csv\", sep=\",\")\n",
    "glycosylation_csv = pd.read_csv(\"../../output/glycosylation/flu/h1n1pdm/ha/glycosylation_sites_HA1.csv\", sep=\",\")\n",
    "\n",
    "\n",
    "merged_csv = positions_csv.merge(glycosylation_csv, on=\"seqName\")\n",
    "\n",
    "print(merged_csv.head())\n",
    "\n",
    "# Save the results with clades showing all culumns and motif to CSV.\n",
    "merged_csv.to_csv(\"../../output/positions/h1n1pdm/ha/merged.csv\", index=True)\n",
    "\n",
    "\n"
   ]
  }
 ],
 "metadata": {
  "kernelspec": {
   "display_name": "positions",
   "language": "python",
   "name": "python3"
  },
  "language_info": {
   "codemirror_mode": {
    "name": "ipython",
    "version": 3
   },
   "file_extension": ".py",
   "mimetype": "text/x-python",
   "name": "python",
   "nbconvert_exporter": "python",
   "pygments_lexer": "ipython3",
   "version": "3.12.3"
  }
 },
 "nbformat": 4,
 "nbformat_minor": 2
}
