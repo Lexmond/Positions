{
 "cells": [
  {
   "cell_type": "code",
   "execution_count": null,
   "metadata": {},
   "outputs": [],
   "source": [
    "import pandas as pd\n",
    " \n",
    "df=pd.DataFrame([['foo','A','B','C'],\n",
    "                ['bar','I','J','K'],\n",
    "                ['baz','X','Y','Z']],\n",
    "                columns=['id','pos 1','pos 2', 'pos 3'])\n",
    " \n",
    "print(df)\n"
   ]
  },
  {
   "cell_type": "code",
   "execution_count": null,
   "metadata": {},
   "outputs": [],
   "source": [
    "df['motif']=df[[c for c in df.columns if 'pos' in c]].sum(axis=1)\n",
    " \n",
    "print(df)\n"
   ]
  },
  {
   "cell_type": "code",
   "execution_count": 19,
   "metadata": {},
   "outputs": [
    {
     "name": "stdout",
     "output_type": "stream",
     "text": [
      "<class 'pandas.core.frame.DataFrame'>\n",
      "Index: 841 entries, 0 to 194\n",
      "Data columns (total 14 columns):\n",
      " #   Column    Non-Null Count  Dtype \n",
      "---  ------    --------------  ----- \n",
      " 0   Sequence  841 non-null    object\n",
      " 1   clade     841 non-null    object\n",
      " 2   Pos 87    841 non-null    object\n",
      " 3   Pos 129   841 non-null    object\n",
      " 4   Pos 134   841 non-null    object\n",
      " 5   Pos 137   841 non-null    object\n",
      " 6   Pos 141   841 non-null    object\n",
      " 7   Pos 142   841 non-null    object\n",
      " 8   Pos 155   841 non-null    object\n",
      " 9   Pos 186   841 non-null    object\n",
      " 10  Pos 216   841 non-null    object\n",
      " 11  Pos 222   841 non-null    object\n",
      " 12  Pos 224   841 non-null    object\n",
      " 13  motif     841 non-null    object\n",
      "dtypes: object(14)\n",
      "memory usage: 98.6+ KB\n",
      "           motif          clade\n",
      "0    -DAPAKGTTDA    6B.1A.5a.2a\n",
      "201  NDAFAKGTTDA    6B.1A.5a.2a\n",
      "12   NDAPAKGTADA    6B.1A.5a.2a\n",
      "643  NDAPAKGTTDA    6B.1A.5a.2a\n",
      "838  NDAPAKGTTDS    6B.1A.5a.2a\n",
      "830  NDAPAKGTTNA    6B.1A.5a.2a\n",
      "829  NDAPAKRTTDA    6B.1A.5a.2a\n",
      "16   NDAPARGTADA    6B.1A.5a.2a\n",
      "790  NDAPARGTTDA    6B.1A.5a.2a\n",
      "195  NDAPEKGATDA    6B.1A.5a.2a\n",
      "835  NDAPEKGTTDA    6B.1A.5a.2a\n",
      "196  NDASAKETTDA    6B.1A.5a.2a\n",
      "772  NDASAKGTTDA    6B.1A.5a.2a\n",
      "1    NDASARETADA  6B.1A.5a.2a.1\n",
      "14   NDASARGNADA  6B.1A.5a.2a.1\n",
      "125  NDASARGTADA  6B.1A.5a.2a.1\n",
      "791  NDASARGTTDA  6B.1A.5a.2a.1\n",
      "825  NDASVRGTADA  6B.1A.5a.2a.1\n",
      "840  NDASXKGTTDA    6B.1A.5a.2a\n",
      "839  NDTPAKGTTDA    6B.1A.5a.2a\n",
      "194  NEAPAKGTADA    6B.1A.5a.2a\n",
      "number of unique motifs is 21\n"
     ]
    }
   ],
   "source": [
    "# Importing \"panda\" as \"pd\"\n",
    "import pandas as pd\n",
    "\n",
    "# Import the csv file \"positions.csv\" as dataframe \"df_positions\"\n",
    "df_positions = pd.read_csv(\"positions.csv\", sep=\";\")\n",
    "\n",
    "# Concatenate all amino acids per row for each column that has the string \"Pos\" in the header.\n",
    "df_positions['motif']= df_positions[[c for c in df_positions.columns if 'Pos' in c]].sum(axis=1)\n",
    "\n",
    "# Sort \"df_positions\" by  \"clade\", \"motif\", \"name\".\n",
    "df_positions = df_positions.sort_values(['motif', 'clade', \"Sequence\"], ascending=[True, True, True])\n",
    "\n",
    "\n",
    "\n",
    "# Show info of \"df_positions\"\n",
    "df_positions.info()\n",
    "\n",
    "# Show the first 5 rows of the dataframe \"df_positions\"\n",
    "df_positions.head()\n",
    "\n",
    "# Get Unique Values for Multiple DataFrame Columns\n",
    "unique_motifs = df_positions[['motif', 'clade']].drop_duplicates()\n",
    "print(unique_motifs)\n",
    "\n",
    "# Total number of motifs\n",
    "num_motifs = df_positions['motif'].nunique()\n",
    "print(f\"number of unique motifs is {num_motifs}\")\n",
    "\n",
    "# Write \"df_positions\" to excel file \"positions_outfile.xlsx\"\n",
    "with pd.ExcelWriter(\"positions_outfile.xlsx\") as writer:\n",
    "    df_positions.to_excel(writer)\n"
   ]
  }
 ],
 "metadata": {
  "kernelspec": {
   "display_name": "berlin",
   "language": "python",
   "name": "python3"
  },
  "language_info": {
   "codemirror_mode": {
    "name": "ipython",
    "version": 3
   },
   "file_extension": ".py",
   "mimetype": "text/x-python",
   "name": "python",
   "nbconvert_exporter": "python",
   "pygments_lexer": "ipython3",
   "version": "3.10.11"
  }
 },
 "nbformat": 4,
 "nbformat_minor": 2
}
